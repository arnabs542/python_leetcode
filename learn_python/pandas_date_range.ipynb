{
 "cells": [
  {
   "cell_type": "code",
   "execution_count": 1,
   "metadata": {
    "scrolled": true
   },
   "outputs": [
    {
     "name": "stdout",
     "output_type": "stream",
     "text": [
      "2020/06/19 20:55:48\r\n"
     ]
    }
   ],
   "source": [
    "!python -c \"print(__import__('time').strftime('%Y/%m/%d %H:%M:%S'))\""
   ]
  },
  {
   "cell_type": "code",
   "execution_count": 2,
   "metadata": {},
   "outputs": [
    {
     "name": "stdout",
     "output_type": "stream",
     "text": [
      "Fri Jun 19 20:55:54 2020\n"
     ]
    }
   ],
   "source": [
    "import time\n",
    "print(time.ctime())"
   ]
  },
  {
   "cell_type": "code",
   "execution_count": 3,
   "metadata": {
    "scrolled": true
   },
   "outputs": [
    {
     "name": "stdout",
     "output_type": "stream",
     "text": [
      "2017-04-02 00:00:00\n",
      "2017-04-09 00:00:00\n",
      "2017-04-16 00:00:00\n",
      "2017-04-23 00:00:00\n",
      "2017-04-30 00:00:00\n",
      "2017-05-07 00:00:00\n",
      "2017-05-14 00:00:00\n",
      "2017-05-21 00:00:00\n"
     ]
    }
   ],
   "source": [
    "import pandas\n",
    "start_date = \"2017-03-29\"\n",
    "end_date = \"2017-05-26\"\n",
    "\n",
    "for timestamp in pandas.date_range(start_date, end_date, freq=\"W\"):\n",
    "    print(timestamp)"
   ]
  },
  {
   "cell_type": "code",
   "execution_count": 15,
   "metadata": {},
   "outputs": [
    {
     "name": "stdout",
     "output_type": "stream",
     "text": [
      "2018-04-22 第3周 Sunday\n",
      "2018-04-23 第4周 Monday\n",
      "2018-04-24 第4周 Tuesday\n",
      "2018-04-25 第4周 Wednesday\n",
      "2018-04-26 第4周 Thursday\n",
      "2018-04-27 第4周 Friday\n",
      "2018-04-28 第4周 Saturday\n",
      "2018-04-29 第4周 Sunday\n",
      "2018-04-30 第5周 Monday\n",
      "2018-05-01 第5周 Tuesday\n",
      "2018-05-02 第5周 Wednesday\n",
      "2018-05-03 第5周 Thursday\n",
      "2018-05-04 第5周 Friday\n",
      "2018-05-05 第5周 Saturday\n",
      "2018-05-06 第5周 Sunday\n"
     ]
    }
   ],
   "source": [
    "import pandas\n",
    "start_date = \"2018-04-22\"\n",
    "end_date   = \"2018-05-06\"\n",
    "count_week = 3\n",
    "for day in pandas.date_range(start_date , end_date):\n",
    "    if day.weekday_name == 'Monday': # 0是Monday\n",
    "        count_week += 1\n",
    "    print(day.date(), \"第%d周\"%count_week, day.weekday_name)"
   ]
  }
 ],
 "metadata": {
  "kernelspec": {
   "display_name": "Python 3",
   "language": "python",
   "name": "python3"
  },
  "language_info": {
   "codemirror_mode": {
    "name": "ipython",
    "version": 3
   },
   "file_extension": ".py",
   "mimetype": "text/x-python",
   "name": "python",
   "nbconvert_exporter": "python",
   "pygments_lexer": "ipython3",
   "version": "3.6.5"
  }
 },
 "nbformat": 4,
 "nbformat_minor": 2
}
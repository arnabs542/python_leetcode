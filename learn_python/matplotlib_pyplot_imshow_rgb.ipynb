{
 "cells": [
  {
   "cell_type": "code",
   "execution_count": 6,
   "metadata": {
    "collapsed": true
   },
   "outputs": [
    {
     "name": "stdout",
     "output_type": "stream",
     "text": [
      "Fri Jun 19 20:53:46 2020\n"
     ]
    },
    {
     "data": {
      "text/plain": "<matplotlib.image.AxesImage at 0x11f058250>"
     },
     "execution_count": 6,
     "metadata": {},
     "output_type": "execute_result"
    },
    {
     "data": {
      "text/plain": "<Figure size 432x288 with 1 Axes>",
      "image/png": "[encoded data removed]"
     },
     "metadata": {
      "needs_background": "light"
     },
     "output_type": "display_data"
    }
   ],
   "source": [
    "# `%pylab inline`会自动import numpy as np\n",
    "# 和import matplotlib.pyplot.imshow等等\n",
    "# %pylab inline\n",
    "import numpy\n",
    "import matplotlib.pyplot\n",
    "random_u8_10x10: numpy.ndarray = numpy.random.randint(256, size=(10, 10), dtype=numpy.uint8)\n",
    "print(__import__('time').ctime())\n",
    "matplotlib.pyplot.imshow(random_u8_10x10)"
   ]
  },
  {
   "cell_type": "code",
   "execution_count": 1,
   "outputs": [
    {
     "data": {
      "text/plain": "<matplotlib.image.AxesImage at 0x124baf350>"
     },
     "execution_count": 1,
     "metadata": {},
     "output_type": "execute_result"
    },
    {
     "data": {
      "text/plain": "<Figure size 432x288 with 1 Axes>",
      "image/png": "[encoded data removed]"
     },
     "metadata": {
      "needs_background": "light"
     },
     "output_type": "display_data"
    }
   ],
   "source": [
    "import numpy\n",
    "import matplotlib.pyplot\n",
    "import cv2\n",
    "generate_random_u8_10x10 = lambda : numpy.random.randint(256, size=(10, 10), dtype=numpy.uint8)\n",
    "matplotlib.pyplot.imshow(cv2.merge(\n",
    "    [\n",
    "        generate_random_u8_10x10(),\n",
    "        generate_random_u8_10x10(),\n",
    "        generate_random_u8_10x10()\n",
    "    ]\n",
    "))\n",
    "\n"
   ],
   "metadata": {
    "collapsed": false,
    "pycharm": {
     "name": "#%%\n"
    }
   }
  }
 ],
 "metadata": {
  "kernelspec": {
   "display_name": "Python 3",
   "language": "python",
   "name": "python3"
  },
  "language_info": {
   "codemirror_mode": {
    "name": "ipython",
    "version": 2
   },
   "file_extension": ".py",
   "mimetype": "text/x-python",
   "name": "python",
   "nbconvert_exporter": "python",
   "pygments_lexer": "ipython2",
   "version": "2.7.6"
  }
 },
 "nbformat": 4,
 "nbformat_minor": 0
}